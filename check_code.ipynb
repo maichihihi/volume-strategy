{
 "cells": [
  {
   "cell_type": "code",
   "execution_count": 1,
   "metadata": {},
   "outputs": [],
   "source": [
    "import pandas as pd\n",
    "import numpy as np\n",
    "import os\n",
    "import sqlalchemy\n",
    "import plotly.graph_objects as go\n",
    "import datetime as dt"
   ]
  },
  {
   "cell_type": "code",
   "execution_count": 2,
   "metadata": {},
   "outputs": [],
   "source": [
    "daily_ret=pd.read_csv('./daily_return.csv')\n",
    "daily_ret.date=daily_ret.date.apply(lambda x: dt.datetime.strptime(x, \"%Y-%m-%d\").date())\n",
    "daily_ret=daily_ret.set_index('date')\n",
    "\n",
    "price_all=pd.read_csv('./price_all.csv')\n",
    "price_all.date=price_all.date.apply(lambda x: dt.datetime.strptime(x, \"%Y-%m-%d\").date())\n",
    "pivot_price=price_all[['date','code','close']].pivot(index='date', columns='code', values='close')\n",
    "# pos_df=pd.DataFrame()"
   ]
  },
  {
   "cell_type": "code",
   "execution_count": null,
   "metadata": {},
   "outputs": [],
   "source": []
  },
  {
   "cell_type": "code",
   "execution_count": 3,
   "metadata": {},
   "outputs": [],
   "source": [
    "backtest_data=price_all.loc[price_all['date']<=dt.date(2020,5,1)]\n",
    "\n",
    "fwd_data=price_all.loc[price_all['date']>=dt.date(2020,4,15)]"
   ]
  },
  {
   "cell_type": "code",
   "execution_count": 4,
   "metadata": {},
   "outputs": [],
   "source": [
    "benchmark=(daily_ret.mean(axis=1)+ 1).cumprod().tolist()"
   ]
  },
  {
   "cell_type": "code",
   "execution_count": 5,
   "metadata": {},
   "outputs": [],
   "source": [
    "# period=10\n",
    "def profit_cal(stop_loss: float,take_profit: float, period: int,enter_mfi: float,exit_mfi: float, chart=False, backtest=True):\n",
    "#     max_p=max([period_enter,period_exit])\n",
    "    total_trade=0\n",
    "    pos_df=pd.DataFrame()\n",
    "    for stock in universe:\n",
    "    #     print(stock)\n",
    "        if backtest:\n",
    "            price=backtest_data[backtest_data['code']==stock].reset_index(drop=True)\n",
    "            pos_arr,trades=strategy_MFI(price_data=price, period=period, stop_loss=stop_loss,take_profit=take_profit,enter_mfi=enter_mfi, exit_mfi=exit_mfi)\n",
    "            total_trade+=trades\n",
    "            pos_df[stock]=pos_arr\n",
    "        else:\n",
    "            price=fwd_data[fwd_data['code']==stock].reset_index(drop=True)\n",
    "            pos_arr,trades=strategy_MFI(price_data=price, period=period, stop_loss=stop_loss,take_profit=take_profit,enter_mfi=enter_mfi, exit_mfi=exit_mfi)\n",
    "            total_trade+=trades\n",
    "            pos_df[stock]=pos_arr\n",
    "    if backtest:\n",
    "        pos_df.index=backtest_data.date.unique().tolist()\n",
    "        daily_ret_temp=daily_ret.loc[daily_ret.index<=dt.date(2020,5,1)]\n",
    "    else:\n",
    "        pos_df.index=fwd_data.date.unique().tolist()\n",
    "        daily_ret_temp=daily_ret.loc[daily_ret.index>dt.date(2020,5,1)]\n",
    "    \n",
    "    max_holding=pos_df.count(axis=1).max()\n",
    "    profit_arr=(daily_ret_temp*pos_df)\n",
    "    daily_profit=profit_arr.mean(axis=1)\n",
    "    cumulative=(daily_profit+1).cumprod().fillna(method='ffill')\n",
    "    print(cumulative[-1], '_____________CUMULATIVE')\n",
    "    print(max_holding, '_____________MAXIMUM HOLDING')\n",
    "    print(total_trade, '_____________NO_OF TRADES')\n",
    "    if chart:\n",
    "        \n",
    "        fig = go.Figure()\n",
    "        fig.add_trace(go.Scatter(x=profit_arr.index.tolist(), y=cumulative.tolist(),\n",
    "                                 mode='lines',\n",
    "                                 name='cumulative'))\n",
    "        if backtest:\n",
    "            fig.add_trace(go.Scatter(x=profit_arr.index.tolist(), y=benchmark[:1326],\n",
    "                                     mode='lines',\n",
    "                                     name='benchmark'))\n",
    "        # if chart_title:\n",
    "        #     fig.update_layout(title_text=chart_title)\n",
    "\n",
    "        fig.show()\n",
    "    return round(cumulative[-1],4), max_holding,total_trade,profit_arr"
   ]
  },
  {
   "cell_type": "code",
   "execution_count": 6,
   "metadata": {},
   "outputs": [],
   "source": [
    "def strategy_MFI(price_data:pd.DataFrame, stop_loss: float, take_profit: float, period: int, enter_mfi: float,exit_mfi: float):\n",
    "#     price_data=price_all[price_all['code']=='VNM'].reset_index(drop=True)\n",
    "    price_data['typical_price']=(price_data['high']+price_data['low']+price_data['close'])/3\n",
    "    price_data['change'] = price_data['typical_price']-price_data['typical_price'].shift(1)\n",
    "    # price_data['up']=0\n",
    "    price_data['positive_mf']=0\n",
    "    price_data['negative_mf']=0\n",
    "    price_data.loc[price_data['change']>0,'positive_mf']=price_data['typical_price']*price_data['volume']\n",
    "    price_data.loc[price_data['change']<0,'negative_mf']=price_data['typical_price']*price_data['volume']\n",
    "\n",
    "    price_data['MFI']=100-100/(1+price_data['positive_mf'].rolling(period).sum()/price_data['negative_mf'].rolling(period).sum())\n",
    "    price_data['MFI'][period-1]=np.nan\n",
    "    price_data['pos']=np.nan\n",
    "#     price_data['MFI']\n",
    "\n",
    "    \n",
    "#     price_data['MFI']=(price_data['high']-price_data['low'])/price_data['volume']\n",
    "    \n",
    "    pos_arr, trades=[],0\n",
    "    enter,enter_p, pos = 0, 0, np.nan\n",
    "    for i in range(period, len(price_data)):\n",
    "    #     print(i)\n",
    "        price_data['pos'][i]=pos\n",
    "        c, c1,c2,c_pre = price_data['close'][i],price_data['close'][i-1],price_data['close'][i-2],price_data['close'][i-5]\n",
    "        v, v1, v2 = price_data['volume'][i], price_data['volume'][i-1],price_data['volume'][i-2]\n",
    "        mfi=price_data['MFI'][i]\n",
    "        o, h, l=price_data['open'][i], price_data['high'][i],price_data['low'][i]\n",
    "        if np.isnan(pos) and mfi>enter_mfi and c>o and c>c_pre*1.05: #and c>c1 and v>v1>v2:        \n",
    "#             print('ENTER___')\n",
    "            pos=1\n",
    "            enter=i\n",
    "            enter_p=c\n",
    "            trades+=1\n",
    "        if pos==1 and i>=enter+3: \n",
    "            if c<c1 and c>enter_p*(1+take_profit):\n",
    "                pos=np.nan                \n",
    "            if mfi<exit_mfi and c<c1:\n",
    "                pos=np.nan                \n",
    "            if c<enter_p*(1-stop_loss):\n",
    "                pos=np.nan\n",
    "#                 print('CUT_LOSS____')\n",
    "#     pos_arr=pd.Series(pos_arr).shift(period+1)\n",
    "    price_data.to_csv('test_MFI.csv')\n",
    "#     pos_arr=price_data['pos']\n",
    "    return price_data['pos'],trades"
   ]
  },
  {
   "cell_type": "code",
   "execution_count": 7,
   "metadata": {},
   "outputs": [
    {
     "ename": "NameError",
     "evalue": "name 'universe' is not defined",
     "output_type": "error",
     "traceback": [
      "\u001b[1;31m---------------------------------------------------------------------------\u001b[0m",
      "\u001b[1;31mNameError\u001b[0m                                 Traceback (most recent call last)",
      "\u001b[1;32m<ipython-input-7-79b8a6e1a362>\u001b[0m in \u001b[0;36m<module>\u001b[1;34m\u001b[0m\n\u001b[1;32m----> 1\u001b[1;33m \u001b[0ma\u001b[0m\u001b[1;33m,\u001b[0m\u001b[0mb\u001b[0m\u001b[1;33m,\u001b[0m\u001b[0mc\u001b[0m\u001b[1;33m,\u001b[0m\u001b[0md\u001b[0m\u001b[1;33m=\u001b[0m\u001b[0mprofit_cal\u001b[0m\u001b[1;33m(\u001b[0m\u001b[0mstop_loss\u001b[0m\u001b[1;33m=\u001b[0m\u001b[1;36m0.05\u001b[0m\u001b[1;33m,\u001b[0m\u001b[0mtake_profit\u001b[0m\u001b[1;33m=\u001b[0m\u001b[1;36m0.3\u001b[0m\u001b[1;33m,\u001b[0m \u001b[0mperiod\u001b[0m\u001b[1;33m=\u001b[0m\u001b[1;36m9\u001b[0m\u001b[1;33m,\u001b[0m\u001b[0menter_mfi\u001b[0m\u001b[1;33m=\u001b[0m\u001b[1;36m90\u001b[0m\u001b[1;33m,\u001b[0m\u001b[0mexit_mfi\u001b[0m\u001b[1;33m=\u001b[0m\u001b[1;36m75\u001b[0m\u001b[1;33m,\u001b[0m\u001b[0mchart\u001b[0m\u001b[1;33m=\u001b[0m\u001b[1;32mTrue\u001b[0m\u001b[1;33m,\u001b[0m\u001b[0mbacktest\u001b[0m\u001b[1;33m=\u001b[0m\u001b[1;32mTrue\u001b[0m\u001b[1;33m)\u001b[0m\u001b[1;33m\u001b[0m\u001b[1;33m\u001b[0m\u001b[0m\n\u001b[0m\u001b[0;32m      2\u001b[0m \u001b[1;33m\u001b[0m\u001b[0m\n\u001b[0;32m      3\u001b[0m \u001b[0md\u001b[0m\u001b[1;33m.\u001b[0m\u001b[0mto_csv\u001b[0m\u001b[1;33m(\u001b[0m\u001b[1;34m'test_profit.csv'\u001b[0m\u001b[1;33m)\u001b[0m\u001b[1;33m\u001b[0m\u001b[1;33m\u001b[0m\u001b[0m\n",
      "\u001b[1;32m<ipython-input-5-fc843953d5db>\u001b[0m in \u001b[0;36mprofit_cal\u001b[1;34m(stop_loss, take_profit, period, enter_mfi, exit_mfi, chart, backtest)\u001b[0m\n\u001b[0;32m      4\u001b[0m     \u001b[0mtotal_trade\u001b[0m\u001b[1;33m=\u001b[0m\u001b[1;36m0\u001b[0m\u001b[1;33m\u001b[0m\u001b[1;33m\u001b[0m\u001b[0m\n\u001b[0;32m      5\u001b[0m     \u001b[0mpos_df\u001b[0m\u001b[1;33m=\u001b[0m\u001b[0mpd\u001b[0m\u001b[1;33m.\u001b[0m\u001b[0mDataFrame\u001b[0m\u001b[1;33m(\u001b[0m\u001b[1;33m)\u001b[0m\u001b[1;33m\u001b[0m\u001b[1;33m\u001b[0m\u001b[0m\n\u001b[1;32m----> 6\u001b[1;33m     \u001b[1;32mfor\u001b[0m \u001b[0mstock\u001b[0m \u001b[1;32min\u001b[0m \u001b[0muniverse\u001b[0m\u001b[1;33m:\u001b[0m\u001b[1;33m\u001b[0m\u001b[1;33m\u001b[0m\u001b[0m\n\u001b[0m\u001b[0;32m      7\u001b[0m     \u001b[1;31m#     print(stock)\u001b[0m\u001b[1;33m\u001b[0m\u001b[1;33m\u001b[0m\u001b[1;33m\u001b[0m\u001b[0m\n\u001b[0;32m      8\u001b[0m         \u001b[1;32mif\u001b[0m \u001b[0mbacktest\u001b[0m\u001b[1;33m:\u001b[0m\u001b[1;33m\u001b[0m\u001b[1;33m\u001b[0m\u001b[0m\n",
      "\u001b[1;31mNameError\u001b[0m: name 'universe' is not defined"
     ]
    }
   ],
   "source": [
    "a,b,c,d=profit_cal(stop_loss=0.05,take_profit=0.3, period=9,enter_mfi=90,exit_mfi=75,chart=True,backtest=True)\n",
    "\n",
    "d.to_csv('test_profit.csv')"
   ]
  },
  {
   "cell_type": "code",
   "execution_count": null,
   "metadata": {},
   "outputs": [],
   "source": [
    "#VALIDATION____\n",
    "\n",
    "price_data=backtest_data[backtest_data['code']=='DBC'].reset_index(drop=True)\n",
    "a,b=strategy_MFI(price_data=price_data, stop_loss=0.05, take_profit=0.3, period=9, enter_mfi=90,exit_mfi=75)"
   ]
  }
 ],
 "metadata": {
  "kernelspec": {
   "display_name": "Python 3",
   "language": "python",
   "name": "python3"
  },
  "language_info": {
   "codemirror_mode": {
    "name": "ipython",
    "version": 3
   },
   "file_extension": ".py",
   "mimetype": "text/x-python",
   "name": "python",
   "nbconvert_exporter": "python",
   "pygments_lexer": "ipython3",
   "version": "3.7.4"
  }
 },
 "nbformat": 4,
 "nbformat_minor": 4
}
